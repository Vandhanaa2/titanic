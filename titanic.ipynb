{
 "cells": [
  {
   "cell_type": "code",
   "execution_count": 75,
   "id": "18ed6c22-4fdb-4cf8-8d20-ce7f0f3107d2",
   "metadata": {},
   "outputs": [],
   "source": [
    "import warnings\n",
    "import numpy as np\n",
    "import pandas as pd\n",
    "import matplotlib.pyplot as plt\n",
    "import seaborn as sns\n",
    "plt.style.use('fivethirtyeight')\n",
    "%matplotlib inline\n",
    "warnings.filterwarnings('ignore')\n"
   ]
  },
  {
   "cell_type": "code",
   "execution_count": 76,
   "id": "81ee4653-1507-461c-9882-79e390fafb5f",
   "metadata": {},
   "outputs": [
    {
     "data": {
      "text/plain": [
       "(891, 12)"
      ]
     },
     "execution_count": 76,
     "metadata": {},
     "output_type": "execute_result"
    }
   ],
   "source": [
    "train = pd.read_csv('train (1).csv')\n",
    "test = pd.read_csv('test.csv')\n",
    "\n",
    "# To know number of columns and rows\n",
    "train.shape\n",
    "# (891, 12)\n"
   ]
  },
  {
   "cell_type": "code",
   "execution_count": 77,
   "id": "07631ae4-3da0-4d4b-8060-71da18c20d59",
   "metadata": {},
   "outputs": [
    {
     "name": "stdout",
     "output_type": "stream",
     "text": [
      "<class 'pandas.core.frame.DataFrame'>\n",
      "RangeIndex: 891 entries, 0 to 890\n",
      "Data columns (total 12 columns):\n",
      " #   Column       Non-Null Count  Dtype  \n",
      "---  ------       --------------  -----  \n",
      " 0   PassengerId  891 non-null    int64  \n",
      " 1   Survived     891 non-null    int64  \n",
      " 2   Pclass       891 non-null    int64  \n",
      " 3   Name         891 non-null    object \n",
      " 4   Sex          891 non-null    object \n",
      " 5   Age          714 non-null    float64\n",
      " 6   SibSp        891 non-null    int64  \n",
      " 7   Parch        891 non-null    int64  \n",
      " 8   Ticket       891 non-null    object \n",
      " 9   Fare         891 non-null    float64\n",
      " 10  Cabin        204 non-null    object \n",
      " 11  Embarked     889 non-null    object \n",
      "dtypes: float64(2), int64(5), object(5)\n",
      "memory usage: 83.7+ KB\n"
     ]
    }
   ],
   "source": [
    "train.info()"
   ]
  },
  {
   "cell_type": "code",
   "execution_count": 78,
   "id": "8f99c280-c34e-40b8-860a-3002477c494c",
   "metadata": {},
   "outputs": [
    {
     "data": {
      "text/html": [
       "<div>\n",
       "<style scoped>\n",
       "    .dataframe tbody tr th:only-of-type {\n",
       "        vertical-align: middle;\n",
       "    }\n",
       "\n",
       "    .dataframe tbody tr th {\n",
       "        vertical-align: top;\n",
       "    }\n",
       "\n",
       "    .dataframe thead th {\n",
       "        text-align: right;\n",
       "    }\n",
       "</style>\n",
       "<table border=\"1\" class=\"dataframe\">\n",
       "  <thead>\n",
       "    <tr style=\"text-align: right;\">\n",
       "      <th></th>\n",
       "      <th>PassengerId</th>\n",
       "      <th>Survived</th>\n",
       "      <th>Pclass</th>\n",
       "      <th>Name</th>\n",
       "      <th>Sex</th>\n",
       "      <th>Age</th>\n",
       "      <th>SibSp</th>\n",
       "      <th>Parch</th>\n",
       "      <th>Ticket</th>\n",
       "      <th>Fare</th>\n",
       "      <th>Cabin</th>\n",
       "      <th>Embarked</th>\n",
       "    </tr>\n",
       "  </thead>\n",
       "  <tbody>\n",
       "    <tr>\n",
       "      <th>0</th>\n",
       "      <td>1</td>\n",
       "      <td>0</td>\n",
       "      <td>3</td>\n",
       "      <td>Braund, Mr. Owen Harris</td>\n",
       "      <td>male</td>\n",
       "      <td>22.0</td>\n",
       "      <td>1</td>\n",
       "      <td>0</td>\n",
       "      <td>A/5 21171</td>\n",
       "      <td>7.2500</td>\n",
       "      <td>NaN</td>\n",
       "      <td>S</td>\n",
       "    </tr>\n",
       "    <tr>\n",
       "      <th>1</th>\n",
       "      <td>2</td>\n",
       "      <td>1</td>\n",
       "      <td>1</td>\n",
       "      <td>Cumings, Mrs. John Bradley (Florence Briggs Th...</td>\n",
       "      <td>female</td>\n",
       "      <td>38.0</td>\n",
       "      <td>1</td>\n",
       "      <td>0</td>\n",
       "      <td>PC 17599</td>\n",
       "      <td>71.2833</td>\n",
       "      <td>C85</td>\n",
       "      <td>C</td>\n",
       "    </tr>\n",
       "    <tr>\n",
       "      <th>2</th>\n",
       "      <td>3</td>\n",
       "      <td>1</td>\n",
       "      <td>3</td>\n",
       "      <td>Heikkinen, Miss. Laina</td>\n",
       "      <td>female</td>\n",
       "      <td>26.0</td>\n",
       "      <td>0</td>\n",
       "      <td>0</td>\n",
       "      <td>STON/O2. 3101282</td>\n",
       "      <td>7.9250</td>\n",
       "      <td>NaN</td>\n",
       "      <td>S</td>\n",
       "    </tr>\n",
       "    <tr>\n",
       "      <th>3</th>\n",
       "      <td>4</td>\n",
       "      <td>1</td>\n",
       "      <td>1</td>\n",
       "      <td>Futrelle, Mrs. Jacques Heath (Lily May Peel)</td>\n",
       "      <td>female</td>\n",
       "      <td>35.0</td>\n",
       "      <td>1</td>\n",
       "      <td>0</td>\n",
       "      <td>113803</td>\n",
       "      <td>53.1000</td>\n",
       "      <td>C123</td>\n",
       "      <td>S</td>\n",
       "    </tr>\n",
       "    <tr>\n",
       "      <th>4</th>\n",
       "      <td>5</td>\n",
       "      <td>0</td>\n",
       "      <td>3</td>\n",
       "      <td>Allen, Mr. William Henry</td>\n",
       "      <td>male</td>\n",
       "      <td>35.0</td>\n",
       "      <td>0</td>\n",
       "      <td>0</td>\n",
       "      <td>373450</td>\n",
       "      <td>8.0500</td>\n",
       "      <td>NaN</td>\n",
       "      <td>S</td>\n",
       "    </tr>\n",
       "  </tbody>\n",
       "</table>\n",
       "</div>"
      ],
      "text/plain": [
       "   PassengerId  Survived  Pclass  \\\n",
       "0            1         0       3   \n",
       "1            2         1       1   \n",
       "2            3         1       3   \n",
       "3            4         1       1   \n",
       "4            5         0       3   \n",
       "\n",
       "                                                Name     Sex   Age  SibSp  \\\n",
       "0                            Braund, Mr. Owen Harris    male  22.0      1   \n",
       "1  Cumings, Mrs. John Bradley (Florence Briggs Th...  female  38.0      1   \n",
       "2                             Heikkinen, Miss. Laina  female  26.0      0   \n",
       "3       Futrelle, Mrs. Jacques Heath (Lily May Peel)  female  35.0      1   \n",
       "4                           Allen, Mr. William Henry    male  35.0      0   \n",
       "\n",
       "   Parch            Ticket     Fare Cabin Embarked  \n",
       "0      0         A/5 21171   7.2500   NaN        S  \n",
       "1      0          PC 17599  71.2833   C85        C  \n",
       "2      0  STON/O2. 3101282   7.9250   NaN        S  \n",
       "3      0            113803  53.1000  C123        S  \n",
       "4      0            373450   8.0500   NaN        S  "
      ]
     },
     "execution_count": 78,
     "metadata": {},
     "output_type": "execute_result"
    }
   ],
   "source": [
    "train.head()"
   ]
  },
  {
   "cell_type": "code",
   "execution_count": 79,
   "id": "40231c8d-4ecb-4b10-a7ec-6577bd6ef6a4",
   "metadata": {},
   "outputs": [
    {
     "data": {
      "text/plain": [
       "Index(['PassengerId', 'Survived', 'Pclass', 'Name', 'Sex', 'Age', 'SibSp',\n",
       "       'Parch', 'Ticket', 'Fare', 'Cabin', 'Embarked'],\n",
       "      dtype='object')"
      ]
     },
     "execution_count": 79,
     "metadata": {},
     "output_type": "execute_result"
    }
   ],
   "source": [
    "train.columns"
   ]
  },
  {
   "cell_type": "code",
   "execution_count": 80,
   "id": "28db86bf-0fab-4233-a627-3d1726221b3b",
   "metadata": {},
   "outputs": [
    {
     "data": {
      "text/plain": [
       "PassengerId      0\n",
       "Survived         0\n",
       "Pclass           0\n",
       "Name             0\n",
       "Sex              0\n",
       "Age            177\n",
       "SibSp            0\n",
       "Parch            0\n",
       "Ticket           0\n",
       "Fare             0\n",
       "Cabin          687\n",
       "Embarked         2\n",
       "dtype: int64"
      ]
     },
     "execution_count": 80,
     "metadata": {},
     "output_type": "execute_result"
    }
   ],
   "source": [
    "#checking for null values\n",
    "train.isnull().sum()"
   ]
  },
  {
   "cell_type": "code",
   "execution_count": 81,
   "id": "b6673e0e-bdea-477b-90d2-7f0decb17186",
   "metadata": {},
   "outputs": [
    {
     "data": {
      "text/plain": [
       "Survived\n",
       "0    549\n",
       "1    342\n",
       "Name: count, dtype: int64"
      ]
     },
     "execution_count": 81,
     "metadata": {},
     "output_type": "execute_result"
    }
   ],
   "source": [
    "train['Survived'].value_counts()"
   ]
  },
  {
   "cell_type": "code",
   "execution_count": 82,
   "id": "201d1923-980a-4134-8646-5f0e02fad3d2",
   "metadata": {},
   "outputs": [
    {
     "data": {
      "text/plain": [
       "Sex\n",
       "male      577\n",
       "female    314\n",
       "Name: count, dtype: int64"
      ]
     },
     "execution_count": 82,
     "metadata": {},
     "output_type": "execute_result"
    }
   ],
   "source": [
    "train['Sex'].value_counts()"
   ]
  },
  {
   "cell_type": "markdown",
   "id": "689c136a-74e3-41c7-ab8f-9818b0fb2875",
   "metadata": {},
   "source": [
    "VISUALIZATIONS"
   ]
  },
  {
   "cell_type": "code",
   "execution_count": 83,
   "id": "bc5db732-670a-4fa5-ab27-321530df6366",
   "metadata": {},
   "outputs": [
    {
     "data": {
      "image/png": "[encoded data removed]",
      "text/plain": [
       "<Figure size 1200x400 with 2 Axes>"
      ]
     },
     "metadata": {},
     "output_type": "display_data"
    }
   ],
   "source": [
    "#number of survivors and death counts.\n",
    "f, ax = plt.subplots(1, 2, figsize=(12, 4))\n",
    "train['Survived'].value_counts().plot.pie(\n",
    "\texplode=[0, 0.1], autopct='%1.1f%%', ax=ax[0], shadow=False)\n",
    "ax[0].set_title('Survivors (1) and the dead (0)')\n",
    "ax[0].set_ylabel('')\n",
    "\n",
    "#based on Sex ratio\n",
    "sns.countplot(train,x='Sex',hue='Survived')\n",
    "plt.show()\n"
   ]
  },
  {
   "cell_type": "code",
   "execution_count": 84,
   "id": "fd27c0ae-1359-48bc-b295-eed853a73b9e",
   "metadata": {},
   "outputs": [
    {
     "data": {
      "image/png": "[encoded data removed]",
      "text/plain": [
       "<Figure size 640x480 with 1 Axes>"
      ]
     },
     "metadata": {},
     "output_type": "display_data"
    }
   ],
   "source": [
    "sns.countplot(train,x='Pclass',hue='Survived')\n",
    "plt.show()"
   ]
  },
  {
   "cell_type": "code",
   "execution_count": 85,
   "id": "44fb6118-f8be-4359-aaf3-0bf0868e255d",
   "metadata": {},
   "outputs": [
    {
     "data": {
      "image/png": "[encoded data removed]",
      "text/plain": [
       "<Figure size 640x480 with 1 Axes>"
      ]
     },
     "metadata": {},
     "output_type": "display_data"
    }
   ],
   "source": [
    "sns.countplot(train,x='Parch',hue='Survived')\n",
    "plt.show()"
   ]
  },
  {
   "cell_type": "markdown",
   "id": "12a6a43b-589c-4040-86b2-7a204bbee9ee",
   "metadata": {},
   "source": [
    "FEATURE ENGINEERING"
   ]
  },
  {
   "cell_type": "code",
   "execution_count": 86,
   "id": "1fd65a56-ea87-4c41-91ed-1607a5b22170",
   "metadata": {},
   "outputs": [],
   "source": [
    "#we can drop the 'ticket' column\n",
    "train = train.drop(['Ticket'], axis=1)\n",
    "test = test.drop(['Ticket'], axis=1)\n",
    "\n"
   ]
  },
  {
   "cell_type": "code",
   "execution_count": 87,
   "id": "9c33af1d-7825-49cc-9e17-b3fbe8ddec24",
   "metadata": {},
   "outputs": [],
   "source": [
    "# Create a new column cabinbool indicating\n",
    "# if the cabin value was given or was NaN\n",
    "train[\"CabinBool\"] = (train[\"Cabin\"].notnull().astype('int'))\n",
    "test[\"CabinBool\"] = (test[\"Cabin\"].notnull().astype('int'))\n",
    "\n",
    "train = train.drop(['Cabin'], axis=1)\n",
    "test = test.drop(['Cabin'], axis=1)\n",
    "  "
   ]
  },
  {
   "cell_type": "code",
   "execution_count": 88,
   "id": "19e92350-7f67-4874-a56e-d1ea8ecb2ae9",
   "metadata": {},
   "outputs": [],
   "source": [
    "#replacing the missing values in \n",
    "# the Embarked feature with S\n",
    "train = train.fillna({\"Embarked\": \"S\"})"
   ]
  },
  {
   "cell_type": "code",
   "execution_count": 89,
   "id": "1395e430-5c11-47b6-8b25-27b8c5f7d987",
   "metadata": {},
   "outputs": [],
   "source": [
    "# sort the ages into logical categories\n",
    "train[\"Age\"] = train[\"Age\"].fillna(-0.5)\n",
    "test[\"Age\"] = test[\"Age\"].fillna(-0.5)\n",
    "bins = [-1, 0, 5, 12, 18, 24, 35, 60, np.inf]\n",
    "labels = ['Unknown', 'Baby', 'Child', 'Teenager',\n",
    "          'Student', 'Young Adult', 'Adult', 'Senior']\n",
    "train['AgeGroup'] = pd.cut(train[\"Age\"], bins, labels=labels)\n",
    "test['AgeGroup'] = pd.cut(test[\"Age\"], bins, labels=labels)"
   ]
  },
  {
   "cell_type": "raw",
   "id": "1734c845-63be-4a1f-bf9c-d8f453dc7224",
   "metadata": {},
   "source": [
    "In the ‘title’ column for both the test and train set, we will categorize them into an equal number of classes. Then we will assign numerical values to the title for convenience of model training"
   ]
  },
  {
   "cell_type": "code",
   "execution_count": 90,
   "id": "f1810f25-9317-4e8c-89d7-f7850764439a",
   "metadata": {},
   "outputs": [],
   "source": [
    "# create a combined group of both datasets\n",
    "combine = [train, test]\n",
    "\n",
    "# extract a title for each Name in the\n",
    "# train and test datasets\n",
    "for dataset in combine:\n",
    "\tdataset['Title'] = dataset.Name.str.extract(' ([A-Za-z]+)\\.', expand=False)\n",
    "\n",
    "pd.crosstab(train['Title'], train['Sex'])\n",
    "\n",
    "# replace various titles with more common names\n",
    "for dataset in combine:\n",
    "\tdataset['Title'] = dataset['Title'].replace(['Lady', 'Capt', 'Col',\n",
    "\t\t\t\t\t\t\t\t\t\t\t\t'Don', 'Dr', 'Major',\n",
    "\t\t\t\t\t\t\t\t\t\t\t\t'Rev', 'Jonkheer', 'Dona'],\n",
    "\t\t\t\t\t\t\t\t\t\t\t\t'Rare')\n",
    "\n",
    "\tdataset['Title'] = dataset['Title'].replace(\n",
    "\t\t['Countess', 'Lady', 'Sir'], 'Royal')\n",
    "\tdataset['Title'] = dataset['Title'].replace('Mlle', 'Miss')\n",
    "\tdataset['Title'] = dataset['Title'].replace('Ms', 'Miss')\n",
    "\tdataset['Title'] = dataset['Title'].replace('Mme', 'Mrs')\n",
    "\n",
    "train[['Title', 'Survived']].groupby(['Title'], as_index=False).mean()\n",
    "\n",
    "# map each of the title groups to a numerical value\n",
    "title_mapping = {\"Mr\": 1, \"Miss\": 2, \"Mrs\": 3,\n",
    "\t\t\t\t\"Master\": 4, \"Royal\": 5, \"Rare\": 6}\n",
    "for dataset in combine:\n",
    "\tdataset['Title'] = dataset['Title'].map(title_mapping)\n",
    "\tdataset['Title'] = dataset['Title'].fillna(0)\n"
   ]
  },
  {
   "cell_type": "code",
   "execution_count": 91,
   "id": "ed283d89-a7aa-4f6e-8f3e-010ab4d524a6",
   "metadata": {},
   "outputs": [],
   "source": [
    "#using title information we can fill the missing age values\n",
    "# create a combined group of both datasets\n",
    "mr_age = train[train[\"Title\"] == 1][\"AgeGroup\"].mode() # Young Adult\n",
    "miss_age = train[train[\"Title\"] == 2][\"AgeGroup\"].mode() # Student\n",
    "mrs_age = train[train[\"Title\"] == 3][\"AgeGroup\"].mode() # Adult\n",
    "master_age = train[train[\"Title\"] == 4][\"AgeGroup\"].mode() # Baby\n",
    "royal_age = train[train[\"Title\"] == 5][\"AgeGroup\"].mode() # Adult\n",
    "rare_age = train[train[\"Title\"] == 6][\"AgeGroup\"].mode() # Adult\n",
    "\n",
    "age_title_mapping = {1: \"Young Adult\", 2: \"Student\",\n",
    "\t\t\t\t\t3: \"Adult\", 4: \"Baby\", 5: \"Adult\", 6: \"Adult\"}\n",
    "\n",
    "for x in range(len(train[\"AgeGroup\"])):\n",
    "\tif train[\"AgeGroup\"][x] == \"Unknown\":\n",
    "\t\ttrain[\"AgeGroup\"][x] = age_title_mapping[train[\"Title\"][x]]\n",
    "\n",
    "for x in range(len(test[\"AgeGroup\"])):\n",
    "\tif test[\"AgeGroup\"][x] == \"Unknown\":\n",
    "\t\ttest[\"AgeGroup\"][x] = age_title_mapping[test[\"Title\"][x]]\n",
    "\n"
   ]
  },
  {
   "cell_type": "code",
   "execution_count": 92,
   "id": "e97c05c2-54f0-4a0f-9958-819e3d3b70c8",
   "metadata": {},
   "outputs": [],
   "source": [
    "#Now assign a numerical value to each age category. Once we have mapped the age into different categories we do not need the age feature. Hence drop it\n",
    "# map each Age value to a numerical value\n",
    "age_mapping = {'Baby': 1, 'Child': 2, 'Teenager': 3,\n",
    "\t\t\t'Student': 4, 'Young Adult': 5, 'Adult': 6,\n",
    "\t\t\t'Senior': 7}\n",
    "train['AgeGroup'] = train['AgeGroup'].map(age_mapping)\n",
    "test['AgeGroup'] = test['AgeGroup'].map(age_mapping)\n",
    "\n",
    "train.head()\n",
    "\n",
    "# dropping the Age feature for now, might change\n",
    "train = train.drop(['Age'], axis=1)\n",
    "test = test.drop(['Age'], axis=1)\n",
    "\n"
   ]
  },
  {
   "cell_type": "code",
   "execution_count": 93,
   "id": "d9ce34ab-1f6a-4559-8911-97fd24ac40a9",
   "metadata": {},
   "outputs": [],
   "source": [
    "train = train.drop(['Name'], axis=1)\n",
    "test = test.drop(['Name'], axis=1)"
   ]
  },
  {
   "cell_type": "code",
   "execution_count": 94,
   "id": "aba4b08d-2b44-4809-b50b-9588da85a2a8",
   "metadata": {},
   "outputs": [],
   "source": [
    "#Assign numerical values to sex and embarks categories\n",
    "sex_mapping = {\"male\": 0, \"female\": 1}\n",
    "train['Sex'] = train['Sex'].map(sex_mapping)\n",
    "test['Sex'] = test['Sex'].map(sex_mapping)\n",
    "\n",
    "embarked_mapping = {\"S\": 1, \"C\": 2, \"Q\": 3}\n",
    "train['Embarked'] = train['Embarked'].map(embarked_mapping)\n",
    "test['Embarked'] = test['Embarked'].map(embarked_mapping)\n"
   ]
  },
  {
   "cell_type": "code",
   "execution_count": 95,
   "id": "42350cad-9180-49f6-8e12-ab4da4a8fdf6",
   "metadata": {},
   "outputs": [],
   "source": [
    "#Fill in the missing Fare value in the test set based on the mean fare for that P-class\n",
    "for x in range(len(test[\"Fare\"])):\n",
    "\tif pd.isnull(test[\"Fare\"][x]):\n",
    "\t\tpclass = test[\"Pclass\"][x] # Pclass = 3\n",
    "\t\ttest[\"Fare\"][x] = round(\n",
    "\t\t\ttrain[train[\"Pclass\"] == pclass][\"Fare\"].mean(), 4)\n",
    "\n",
    "# map Fare values into groups of\n",
    "# numerical values\n",
    "train['FareBand'] = pd.qcut(train['Fare'], 4,\n",
    "\t\t\t\t\t\t\tlabels=[1, 2, 3, 4])\n",
    "test['FareBand'] = pd.qcut(test['Fare'], 4,\n",
    "\t\t\t\t\t\tlabels=[1, 2, 3, 4])\n",
    "\n",
    "# drop Fare values\n",
    "train = train.drop(['Fare'], axis=1)\n",
    "test = test.drop(['Fare'], axis=1)\n"
   ]
  },
  {
   "cell_type": "markdown",
   "id": "f4e09a6c-5c12-4c04-9dff-91623517ff51",
   "metadata": {},
   "source": [
    "MODEL TRAINING- Random forest"
   ]
  },
  {
   "cell_type": "code",
   "execution_count": 96,
   "id": "79097c66-a9b0-4f06-bfc2-9cc5afa90a2d",
   "metadata": {},
   "outputs": [],
   "source": [
    "from sklearn.model_selection import train_test_split\n",
    "\n",
    "# Drop the Survived and PassengerId\n",
    "# column from the trainset\n",
    "predictors = train.drop(['Survived', 'PassengerId'], axis=1)\n",
    "target = train[\"Survived\"]\n",
    "x_train, x_val, y_train, y_val = train_test_split(\n",
    "\tpredictors, target, test_size=0.2, random_state=0)\n"
   ]
  },
  {
   "cell_type": "code",
   "execution_count": 97,
   "id": "e0bc2b7c-cbd3-4435-a633-c9ddcbce0d06",
   "metadata": {},
   "outputs": [
    {
     "name": "stdout",
     "output_type": "stream",
     "text": [
      "83.8\n"
     ]
    }
   ],
   "source": [
    "from sklearn.ensemble import RandomForestClassifier\n",
    "from sklearn.metrics import accuracy_score\n",
    "\n",
    "randomforest = RandomForestClassifier()\n",
    "\n",
    "# Fit the training data along with its output\n",
    "randomforest.fit(x_train, y_train)\n",
    "y_pred = randomforest.predict(x_val)\n",
    "\n",
    "# Find the accuracy score of the model\n",
    "acc_randomforest = round(accuracy_score(y_pred, y_val) * 100, 2)\n",
    "print(acc_randomforest)\n"
   ]
  },
  {
   "cell_type": "markdown",
   "id": "d0f0ece3-28e1-4690-819f-eca34a830d62",
   "metadata": {},
   "source": [
    "PREDICTION"
   ]
  },
  {
   "cell_type": "code",
   "execution_count": 99,
   "id": "d16fb97a-2ed9-450e-bfb4-cc1ee2398897",
   "metadata": {},
   "outputs": [],
   "source": [
    "ids = test['PassengerId']\n",
    "predictions = randomforest.predict(test.drop('PassengerId', axis=1))\n",
    "\n",
    "# set the output as a dataframe and convert\n",
    "# to csv file named resultfile.csv\n",
    "output = pd.DataFrame({'PassengerId': ids, 'Survived': predictions})\n",
    "output.to_csv('resultfile.csv', index=False)\n"
   ]
  }
 ],
 "metadata": {
  "kernelspec": {
   "display_name": "Python 3 (ipykernel)",
   "language": "python",
   "name": "python3"
  },
  "language_info": {
   "codemirror_mode": {
    "name": "ipython",
    "version": 3
   },
   "file_extension": ".py",
   "mimetype": "text/x-python",
   "name": "python",
   "nbconvert_exporter": "python",
   "pygments_lexer": "ipython3",
   "version": "3.11.2"
  }
 },
 "nbformat": 4,
 "nbformat_minor": 5
}
